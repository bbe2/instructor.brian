{
  "nbformat": 4,
  "nbformat_minor": 0,
  "metadata": {
    "colab": {
      "provenance": [],
      "collapsed_sections": [
        "ZnMfVK_09juo",
        "SAaxglgtxCqw",
        "huQgV_EyydGR",
        "zYpemRXj3FSp",
        "s_8WVjMv0g77",
        "9g8T_W9A05Rk",
        "g5kWSGKdzFev"
      ]
    },
    "kernelspec": {
      "name": "python3",
      "display_name": "Python 3"
    },
    "language_info": {
      "name": "python"
    }
  },
  "cells": [
    {
      "cell_type": "markdown",
      "source": [
        "## **Title **\n",
        "## Retooling of DeepLearningAI's new course, ChatGPT prompt engineering for developers, to test GPT3.5 automated student grading.  \n",
        "\n",
        "For UConn Dept of Computer Science hiring committee  \n",
        "Committtee members:  \n",
        "\n",
        "by: b.hogan@snhu.edu  \n",
        "\n",
        "> **Reference**  \n",
        ">> DeepLearning.AI Course  \n",
        ">> https://learn.deeplearning.ai/chatgpt-prompt-eng/lesson/2/guidelines  "
      ],
      "metadata": {
        "id": "In8fMkTpdSYB"
      }
    },
    {
      "cell_type": "markdown",
      "source": [
        "### Concept: use of ChatGPT for grading\n",
        "\n",
        "**Goal:** evaluate sensitivity for effective student assignment grading.\n",
        "\n",
        "*   Background: Week of April 23rd 2023, DeepLearning.AI released course 'chatgpt prompt engineering for developers.\" By writing clear and specific prompt guidelines possible to progress an idea through implementation, experimentation, and error analysis.  \n",
        "*   Current tech designed as a chatbot to address conversation inference, information summary, etc. Ultimately students could have a Chatbot assistant or perform their own grading and submit the outcomes. Randomness would apply to answer sending x percent to professor for random sample testing (like in manufacturing.\n",
        "\n",
        "*  Feasibility: each question is a \"fact sheet\" and GPT can not only compare the words but can run and test the code when data is internet accessible such as in a github repository. given gpt 3.5 aslo has advanced similarity detection. note: DeepLearning.AI uses the term fact sheet for a couple example times and I adopted providing similarity to this new testing environment.   \n",
        "\n",
        "**Overview**  \n",
        "*    Student answer sumbmitted as .txt files with anchored start and end points else in predefined spreadsheet. Either way parsed into dictionary per student.  \n",
        "*  Use iteratives and simple python data objects to process through gpt3.5 turbo engine returning grade assessment  \n",
        "\n",
        "**Operations**  \n",
        "1. each student loads their answer with a sequential index into a single folder ex: 1.assignment, 2.assignment.\n",
        "2. python grabs and dumps into a dictionary.\n",
        "3. dictionary run through an iterator comparing submittal to assignment fact sheets.  \n",
        "4. gpt 3.5 provides a similarity assessment if assessment falls beneath a certain threshold kicked for further review  \n",
        "5. per assignment, professor randomly parses 0 to 20% total answers for manual inspection   \n",
        "6. gpt 3.5 + manual test cases are built into control charts for each student   \n",
        "7. need to test, but six-sigma defects per million might be suitable \n",
        "8. if minitab six-sigma then drop data grid into and run generating each students control chart + defect measuresuments  \n",
        "\n",
        "**Code outline**  \n",
        "myTuple_roster = (student.1, student.2,)  \n",
        "mylist_answer_fact_sheets = []  #read in using pandas  \n",
        "myDict_Answer.Student_1 = {tuple_roster[1] : \"answer.1\",\"answer,2\",\"answer.n\"}  \n",
        "\n",
        "while num_studens  \n",
        "    gpt_score =  \n",
        "    myDict_Answer.Student_1 = {tuple_roster[1] : \"answer.1\",\"answer,2\",\"answer.n\"}  \n",
        "while   \n",
        "    gpt_score =  \n",
        "\n",
        "> source materials for testing student grading (3/4 way down)  \n",
        "> Use of AI to assist with UConn automated grading as follow-up to interview  "
      ],
      "metadata": {
        "id": "ZnMfVK_09juo"
      }
    },
    {
      "cell_type": "markdown",
      "source": [
        "b.hogan@snhu.edu\n",
        "==> source materials for testing student grading (3/4 way down)\n",
        "==> going to code up for UCONN interview follow-up\n",
        "https://learn.deeplearning.ai/chatgpt-prompt-eng/lesson/2/guidelines\n",
        "DeepLearning.AI Course\n"
      ],
      "metadata": {
        "id": "iaAoEOz138FC"
      }
    },
    {
      "cell_type": "code",
      "source": [],
      "metadata": {
        "id": "3CqsE7io9dWP"
      },
      "execution_count": null,
      "outputs": []
    },
    {
      "cell_type": "markdown",
      "source": [
        "--------------\n",
        "# Module 2: Prompting Guidelines  \n",
        "-------------"
      ],
      "metadata": {
        "id": "SAaxglgtxCqw"
      }
    },
    {
      "cell_type": "markdown",
      "source": [
        "\n",
        "*   Guidelines for Prompting  \n",
        "*  In this lesson, you'll practice two prompting principles \n",
        "> Principle 1: Write clear and specific instructions  \n",
        "> Principle 2: Give the model time to “think”\n",
        "\n",
        "*   And, related tactics to write effective prompts for large language models.   \n",
        "\n"
      ],
      "metadata": {
        "id": "FeWzcDUMyc9o"
      }
    },
    {
      "cell_type": "markdown",
      "source": [
        "##**M2.1 Setup**\n",
        "Load the API key and relevant Python libaries.\n",
        "\n",
        "**NOTE:** the API key is example only, goto OpenAI to get one"
      ],
      "metadata": {
        "id": "Gh_dbZ0a9q1o"
      }
    },
    {
      "cell_type": "code",
      "source": [
        "#pip install openai\n",
        "\n",
        "#In [1]:\n",
        "import openai\n",
        "import os\n",
        "\n",
        "from dotenv import load_dotenv, find_dotenv\n",
        "_ = load_dotenv(find_dotenv())\n",
        "openai.api_key = \"sk-DcAA6Ckvt\"\n",
        "\n",
        "openai.api_key  = os.getenv('OPENAI_API_KEY')\n",
        "print(\"done\")\n",
        "done\n",
        "\n",
        "#helper function Throughout this course, we will use \n",
        "# OpenAI's gpt-3.5-turbo model and the chat completions endpoint.\n",
        "#This helper function will make it easier to use prompts and look at the generated outputs:\n",
        "\n",
        "#In [2]:\n",
        "def get_completion(prompt, model=\"gpt-3.5-turbo\"):\n",
        "    messages = [{\"role\": \"user\", \"content\": prompt}]\n",
        "    response = openai.ChatCompletion.create(\n",
        "        model=model,\n",
        "        messages=messages,\n",
        "        temperature=0, # this is the degree of randomness of the model's output\n",
        "    )\n",
        "    return response.choices[0].message[\"content\"]\n",
        "print(\"done\")\n",
        "done"
      ],
      "metadata": {
        "id": "MyIWQG-MyeBJ"
      },
      "execution_count": null,
      "outputs": []
    },
    {
      "cell_type": "markdown",
      "source": [
        "## M2.2 Prompting Principles and their tactics\n",
        "•\tPrinciple 1: Write clear and specific instructions  \n",
        "•\tPrinciple 2: Give the model time to “think”\n"
      ],
      "metadata": {
        "id": "huQgV_EyydGR"
      }
    },
    {
      "cell_type": "markdown",
      "source": [
        "### Principle 1: Write clear and specific instructions  "
      ],
      "metadata": {
        "id": "zYpemRXj3FSp"
      }
    },
    {
      "cell_type": "markdown",
      "source": [
        "#### Tactics (4 total)\n",
        "Tactic 1: Use delimiters to clearly indicate distinct parts of the input  \n",
        "Delimiters can be anything like: ```, \"\"\", < >, <tag> </tag>, :  "
      ],
      "metadata": {
        "id": "jFrwrbVTzgt5"
      }
    },
    {
      "cell_type": "markdown",
      "source": [
        "#### Tactic 1: Use delimiters to clearly indicate distinct parts of the input"
      ],
      "metadata": {
        "id": "ItFWkGLs0VJY"
      }
    },
    {
      "cell_type": "code",
      "source": [
        "Delimiters can be anything like: ```, \"\"\", < >, <tag> </tag>, :\n",
        "s you can possibly make them. \\ \n",
        "This will g\n",
        "text = f\"\"\"\n",
        "You should express what you want a model to do by \\ \n",
        "providing instructions that are as clear and \\ \n",
        "specific as you can possibly make them. \\ \n",
        "This will guide the model towards the desired output, \\ \n",
        "and reduce the chances of receiving irrelevant \\ \n",
        "or incorrect responses. Don't confuse writing a \\ \n",
        "clear prompt with writing a short prompt. \\ \n",
        "In many cases, longer prompts provide more clarity \\ \n",
        "and context for the model, which can lead to \\ \n",
        "more detailed and relevant outputs.\n",
        "\"\"\"\n",
        "prompt = f\"\"\"\n",
        "Summarize the text delimited by triple backticks \\ \n",
        "into a single sentence.\n",
        "```{text}```\n",
        "\"\"\"\n",
        "response = get_completion(prompt)\n",
        "print(response)"
      ],
      "metadata": {
        "id": "HSu0q31PyeHT"
      },
      "execution_count": null,
      "outputs": []
    },
    {
      "cell_type": "markdown",
      "source": [
        "#### Tactic 2: Ask for a structured output\n",
        "JSON, HTML"
      ],
      "metadata": {
        "id": "s_8WVjMv0g77"
      }
    },
    {
      "cell_type": "code",
      "source": [
        "Tactic 2: Ask for a structured output\n",
        "JSON, HTML\n",
        "prompt = f\"\"\"\n",
        "Generate a list of three made-up book titles along \\ \n",
        "with their authors and genres. \n",
        "Provide them in JSON format with the following keys: \n",
        "book_id, title, author, genre.\n",
        "\"\"\"\n",
        "response = get_completion(prompt)\n",
        "print(response)"
      ],
      "metadata": {
        "id": "Yhx_bAWv0mLk"
      },
      "execution_count": null,
      "outputs": []
    },
    {
      "cell_type": "markdown",
      "source": [
        "#### Tactic 3: Ask the model to check whether conditions are satisfied"
      ],
      "metadata": {
        "id": "9g8T_W9A05Rk"
      }
    },
    {
      "cell_type": "code",
      "source": [
        "text_1 = f\"\"\"\n",
        "Making a cup of tea is easy! First, you need to get some \\ \n",
        "water boiling. While that's happening, \\ \n",
        "grab a cup and put a tea bag in it. Once the water is \\ \n",
        "hot enough, just pour it over the tea bag. \\ \n",
        "Let it sit for a bit so the tea can steep. After a \\ \n",
        "few minutes, take out the tea bag. If you \\ \n",
        "like, you can add some sugar or milk to taste. \\ \n",
        "And that's it! You've got yourself a delicious \\ \n",
        "cup of tea to enjoy.\n",
        "\"\"\"\n",
        "prompt = f\"\"\"\n",
        "You will be provided with text delimited by triple quotes. \n",
        "If it contains a sequence of instructions, \\ \n",
        "re-write those instructions in the following format:\n",
        "​\n",
        "Step 1 - ...\n",
        "Step 2 - …\n",
        "…\n",
        "Step N - …\n",
        "​\n",
        "If the text does not contain a sequence of instructions, \\ \n",
        "then simply write \\\"No steps provided.\\\"\n",
        "​\n",
        "\\\"\\\"\\\"{text_1}\\\"\\\"\\\"\n",
        "\"\"\"\n",
        "response = get_completion(prompt)\n",
        "print(\"Completion for Text 1:\")\n",
        "print(response)\n",
        "text_2 = f\"\"\"\n",
        "The sun is shining brightly today, and the birds are \\\n",
        "singing. It's a beautiful day to go for a \\ \n",
        "walk in the park. The flowers are blooming, and the \\ \n",
        "trees are swaying gently in the breeze. People \\ \n",
        "are out and about, enjoying the lovely weather. \\ \n",
        "Some are having picnics, while others are playing \\ \n",
        "games or simply relaxing on the grass. It's a \\ \n",
        "perfect day to spend time outdoors and appreciate the \\ \n",
        "beauty of nature.\n",
        "\"\"\"\n",
        "prompt = f\"\"\"\n",
        "You will be provided with text delimited by triple quotes. \n",
        "If it contains a sequence of instructions, \\ \n",
        "re-write those instructions in the following format:\n",
        "​\n",
        "Step 1 - ...\n",
        "Step 2 - …\n",
        "…\n",
        "Step N - …\n",
        "​\n",
        "If the text does not contain a sequence of instructions, \\ \n",
        "then simply write \\\"No steps provided.\\\"\n",
        "​\n",
        "\\\"\\\"\\\"{text_2}\\\"\\\"\\\"\n",
        "\"\"\"\n",
        "response = get_completion(prompt)\n",
        "print(\"Completion for Text 2:\")\n",
        "print(response)\n"
      ],
      "metadata": {
        "id": "fq-jXrR906Pb"
      },
      "execution_count": null,
      "outputs": []
    },
    {
      "cell_type": "markdown",
      "source": [
        "#### Tactic 4: \"Few-shot\" prompting"
      ],
      "metadata": {
        "id": "9T-R4M9h0NBY"
      }
    },
    {
      "cell_type": "code",
      "source": [
        "\n",
        "prompt = f\"\"\"\n",
        "Your task is to answer in a consistent style.\n",
        "\n",
        "<child>: Teach me about patience.\n",
        "\n",
        "<grandparent>: The river that carves the deepest \\ \n",
        "valley flows from a modest spring; the \\ \n",
        "grandest symphony originates from a single note; \\ \n",
        "the most intricate tapestry begins with a solitary thread.\n",
        "\n",
        "<child>: Teach me about resilience.\n",
        "\"\"\"\n",
        "response = get_completion(prompt)\n",
        "print(response)\n"
      ],
      "metadata": {
        "id": "Qh9D89pR0LvD"
      },
      "execution_count": null,
      "outputs": []
    },
    {
      "cell_type": "markdown",
      "source": [
        "### Principle 2: Give the model time to “think” "
      ],
      "metadata": {
        "id": "g5kWSGKdzFev"
      }
    },
    {
      "cell_type": "markdown",
      "source": [
        "\n",
        "#### Prin.2. Tactic 1: Specify the steps required to complete a task"
      ],
      "metadata": {
        "id": "jXirdGfi2H2L"
      }
    },
    {
      "cell_type": "code",
      "source": [
        "text = f\"\"\"\n",
        "In a charming village, siblings Jack and Jill set out on \\ \n",
        "a quest to fetch water from a hilltop \\ \n",
        "well. As they climbed, singing joyfully, misfortune \\ \n",
        "struck—Jack tripped on a stone and tumbled \\ \n",
        "down the hill, with Jill following suit. \\ \n",
        "Though slightly battered, the pair returned home to \\ \n",
        "comforting embraces. Despite the mishap, \\ \n",
        "their adventurous spirits remained undimmed, and they \\ \n",
        "continued exploring with delight.\n",
        "\"\"\"\n",
        "# example 1\n",
        "prompt_1 = f\"\"\"\n",
        "Perform the following actions: \n",
        "1 - Summarize the following text delimited by triple \\\n",
        "backticks with 1 sentence.\n",
        "2 - Translate the summary into French.\n",
        "3 - List each name in the French summary.\n",
        "4 - Output a json object that contains the following \\\n",
        "keys: french_summary, num_names.\n",
        "\n",
        "Separate your answers with line breaks.\n",
        "\n",
        "Text:\n",
        "```{text}```\n",
        "\"\"\"\n",
        "response = get_completion(prompt_1)\n",
        "print(\"Completion for prompt 1:\")\n",
        "print(response)"
      ],
      "metadata": {
        "id": "Dvd4hHS9yeLf"
      },
      "execution_count": null,
      "outputs": []
    },
    {
      "cell_type": "markdown",
      "source": [
        "Ask for output in a specified format"
      ],
      "metadata": {
        "id": "qauqQxaI2US8"
      }
    },
    {
      "cell_type": "code",
      "source": [
        "prompt_2 = f\"\"\"\n",
        "Your task is to perform the following actions: \n",
        "1 - Summarize the following text delimited by \n",
        "  <> with 1 sentence.\n",
        "2 - Translate the summary into French.\n",
        "3 - List each name in the French summary.\n",
        "4 - Output a json object that contains the \n",
        "  following keys: french_summary, num_names.\n",
        "\n",
        "Use the following format:\n",
        "Text: <text to summarize>\n",
        "Summary: <summary>\n",
        "Translation: <summary translation>\n",
        "Names: <list of names in Italian summary>\n",
        "Output JSON: <json with summary and num_names>\n",
        "\n",
        "Text: <{text}>\n",
        "\"\"\"\n",
        "response = get_completion(prompt_2)\n",
        "print(\"\\nCompletion for prompt 2:\")\n",
        "print(response)"
      ],
      "metadata": {
        "id": "wpRT0cfCyeOb"
      },
      "execution_count": null,
      "outputs": []
    },
    {
      "cell_type": "markdown",
      "source": [
        "#### P2.Tactic 2: Instruct the model to work out its own solution before rushing to a conclusion"
      ],
      "metadata": {
        "id": "NFqr5mdI2cSF"
      }
    },
    {
      "cell_type": "code",
      "source": [
        "prompt = f\"\"\"\n",
        "Determine if the student's solution is correct or not.\n",
        "\n",
        "Question:\n",
        "I'm building a solar power installation and I need \\\n",
        " help working out the financials. \n",
        "- Land costs $100 / square foot\n",
        "- I can buy solar panels for $250 / square foot\n",
        "- I negotiated a contract for maintenance that will cost \\ \n",
        "me a flat $100k per year, and an additional $10 / square \\\n",
        "foot\n",
        "What is the total cost for the first year of operations \n",
        "as a function of the number of square feet.\n",
        "\n",
        "Student's Solution:\n",
        "Let x be the size of the installation in square feet.\n",
        "Costs:\n",
        "1. Land cost: 100x\n",
        "2. Solar panel cost: 250x\n",
        "3. Maintenance cost: 100,000 + 100x\n",
        "Total cost: 100x + 250x + 100,000 + 100x = 450x + 100,000\n",
        "\"\"\"\n",
        "response = get_completion(prompt)\n",
        "print(response)"
      ],
      "metadata": {
        "id": "hyYfGg6byeT7"
      },
      "execution_count": null,
      "outputs": []
    },
    {
      "cell_type": "markdown",
      "source": [
        "Note that the student's solution is actually not correct.  \n",
        "We can fix this by instructing the model to work out its own solution first"
      ],
      "metadata": {
        "id": "sYGBQNPx2nha"
      }
    },
    {
      "cell_type": "markdown",
      "source": [
        "### Student Grading to adapt "
      ],
      "metadata": {
        "id": "9tO-ARu-4GWs"
      }
    },
    {
      "cell_type": "code",
      "source": [
        "prompt = f\"\"\"\n",
        "Your task is to determine if the student's solution \\\n",
        "is correct or not.\n",
        "To solve the problem do the following:\n",
        "- First, work out your own solution to the problem. \n",
        "- Then compare your solution to the student's solution \\ \n",
        "and evaluate if the student's solution is correct or not. \n",
        "Don't decide if the student's solution is correct until \n",
        "you have done the problem yourself.\n",
        "\n",
        "Use the following format:\n",
        "Question:\n",
        "```\n",
        "question here\n",
        "```\n",
        "Student's solution:\n",
        "```\n",
        "student's solution here\n",
        "```\n",
        "Actual solution:\n",
        "```\n",
        "steps to work out the solution and your solution here\n",
        "```\n",
        "Is the student's solution the same as actual solution \\\n",
        "just calculated:\n",
        "```\n",
        "yes or no\n",
        "```\n",
        "Student grade:\n",
        "```\n",
        "correct or incorrect\n",
        "```\n",
        "\n",
        "Question:\n",
        "```\n",
        "I'm building a solar power installation and I need help \\\n",
        "working out the financials. \n",
        "- Land costs $100 / square foot\n",
        "- I can buy solar panels for $250 / square foot\n",
        "- I negotiated a contract for maintenance that will cost \\\n",
        "me a flat $100k per year, and an additional $10 / square \\\n",
        "foot\n",
        "What is the total cost for the first year of operations \\\n",
        "as a function of the number of square feet.\n",
        "``` \n",
        "Student's solution:\n",
        "```\n",
        "Let x be the size of the installation in square feet.\n",
        "Costs:\n",
        "1. Land cost: 100x\n",
        "2. Solar panel cost: 250x\n",
        "3. Maintenance cost: 100,000 + 100x\n",
        "Total cost: 100x + 250x + 100,000 + 100x = 450x + 100,000\n",
        "```\n",
        "Actual solution:\n",
        "\"\"\"\n",
        "response = get_completion(prompt)\n",
        "print(response)"
      ],
      "metadata": {
        "id": "4t2k1J4m2oQq"
      },
      "execution_count": null,
      "outputs": []
    },
    {
      "cell_type": "markdown",
      "source": [
        "## M2.3 Model Limitations: Hallucinations\n",
        "- Boie is a real company, the product name is not real."
      ],
      "metadata": {
        "id": "GHnykqaPxYEr"
      }
    },
    {
      "cell_type": "code",
      "source": [
        "prompt = f\"\"\"\n",
        "Tell me about AeroGlide UltraSlim Smart Toothbrush by Boie\n",
        "\"\"\"\n",
        "response = get_completion(prompt)\n",
        "print(response)"
      ],
      "metadata": {
        "id": "mr7BUhiExXxG"
      },
      "execution_count": null,
      "outputs": []
    },
    {
      "cell_type": "markdown",
      "source": [
        "Notes on using the OpenAI API outside of this classroom\n",
        "To install the OpenAI Python library:\n",
        "\n",
        "!pip install openai\n",
        "The library needs to be configured with your account's secret key, which is available on the website.\n",
        "\n",
        "You can either set it as the OPENAI_API_KEY environment variable before using the library:\n",
        "\n",
        " !export OPENAI_API_KEY='sk-...'\n",
        "Or, set openai.api_key to its value:\n",
        "\n",
        "import openai\n",
        "openai.api_key = \"sk-...\""
      ],
      "metadata": {
        "id": "t-1n6g3Y2yiF"
      }
    },
    {
      "cell_type": "markdown",
      "source": [
        "A note about the backslash\n",
        "In the course, we are using a backslash \\ to make the text fit on the screen without inserting newline '\\n' characters.\n",
        "GPT-3 isn't really affected whether you insert newline characters or not. But when working with LLMs in general, you may consider whether newline characters in your prompt may affect the model's performance.  "
      ],
      "metadata": {
        "id": "XIWRgJKP24Dy"
      }
    },
    {
      "cell_type": "code",
      "source": [
        "############## END"
      ],
      "metadata": {
        "id": "x4KiExAG23k5"
      },
      "execution_count": null,
      "outputs": []
    },
    {
      "cell_type": "markdown",
      "source": [
        "# Module 2: Iterative (iterate a key item like fact sheet)"
      ],
      "metadata": {
        "id": "SnU1AC5t4RcO"
      }
    },
    {
      "cell_type": "code",
      "source": [],
      "metadata": {
        "id": "qyBV2YZk2yRZ"
      },
      "execution_count": null,
      "outputs": []
    },
    {
      "cell_type": "markdown",
      "source": [],
      "metadata": {
        "id": "yGnA5qBY4Xgs"
      }
    },
    {
      "cell_type": "code",
      "source": [],
      "metadata": {
        "id": "24_m0ec64YF5"
      },
      "execution_count": null,
      "outputs": []
    },
    {
      "cell_type": "markdown",
      "source": [],
      "metadata": {
        "id": "XE8IPjHH4Xc0"
      }
    },
    {
      "cell_type": "code",
      "source": [],
      "metadata": {
        "id": "f7k1wm9r4W8q"
      },
      "execution_count": null,
      "outputs": []
    },
    {
      "cell_type": "markdown",
      "source": [],
      "metadata": {
        "id": "A35OVi6S4WTF"
      }
    }
  ]
}
